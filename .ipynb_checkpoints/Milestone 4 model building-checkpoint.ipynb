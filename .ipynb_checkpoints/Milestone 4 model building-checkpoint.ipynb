{
 "cells": [
  {
   "cell_type": "markdown",
   "metadata": {},
   "source": [
    "# Imports"
   ]
  },
  {
   "cell_type": "code",
   "execution_count": 1,
   "metadata": {},
   "outputs": [],
   "source": [
    "import pandas as pd\n",
    "from sklearn.compose import ColumnTransformer\n",
    "from sklearn.preprocessing import OrdinalEncoder\n",
    "from sklearn.model_selection import train_test_split\n",
    "from sklearn.ensemble import RandomForestClassifier\n",
    "from sklearn.metrics import confusion_matrix\n",
    "import pickle"
   ]
  },
  {
   "cell_type": "markdown",
   "metadata": {},
   "source": [
    "# Load key column names"
   ]
  },
  {
   "cell_type": "code",
   "execution_count": 2,
   "metadata": {},
   "outputs": [],
   "source": [
    "protected_classes = ['Gender',\n",
    " 'Race (Reported)',\n",
    " 'Race (OMB)',\n",
    " 'Ethnicity (Reported)',\n",
    " 'Ethnicity (OMB)']\n",
    "\n",
    "genes = ['Cyp2C9 genotypes', 'Genotyped QC Cyp2C9*2', 'Genotyped QC Cyp2C9*3',\n",
    "       'Combined QC CYP2C9','VKORC1 genotype: -1639 G>A (3673); chr16:31015190; rs9923231; C/T',\n",
    "       'VKORC1 QC genotype: -1639 G>A (3673); chr16:31015190; rs9923231; C/T',\n",
    "       'VKORC1 genotype: 497T>G (5808); chr16:31013055; rs2884737; A/C',\n",
    "       'VKORC1 QC genotype: 497T>G (5808); chr16:31013055; rs2884737; A/C',\n",
    "       'VKORC1 genotype: 1173 C>T(6484); chr16:31012379; rs9934438; A/G',\n",
    "       'VKORC1 QC genotype: 1173 C>T(6484); chr16:31012379; rs9934438; A/G',\n",
    "       'VKORC1 genotype: 1542G>C (6853); chr16:31012010; rs8050894; C/G',\n",
    "       'VKORC1 QC genotype: 1542G>C (6853); chr16:31012010; rs8050894; C/G',\n",
    "       'VKORC1 genotype: 3730 G>A (9041); chr16:31009822; rs7294;  A/G',\n",
    "       'VKORC1 QC genotype: 3730 G>A (9041); chr16:31009822; rs7294;  A/G',\n",
    "       'VKORC1 genotype: 2255C>T (7566); chr16:31011297; rs2359612; A/G',\n",
    "       'VKORC1 QC genotype: 2255C>T (7566); chr16:31011297; rs2359612; A/G',\n",
    "       'VKORC1 genotype: -4451 C>A (861); Chr16:31018002; rs17880887; A/C',\n",
    "       'VKORC1 QC genotype: -4451 C>A (861); Chr16:31018002; rs17880887; A/C',\n",
    "       'CYP2C9 consensus', 'VKORC1 -1639 consensus', 'VKORC1 497 consensus',\n",
    "       'VKORC1 1173 consensus', 'VKORC1 1542 consensus',\n",
    "       'VKORC1 3730 consensus', 'VKORC1 2255 consensus',\n",
    "       'VKORC1 -4451 consensus']\n",
    "medication = ['Aspirin', 'Acetaminophen or Paracetamol (Tylenol)',\n",
    "       'Was Dose of Acetaminophen or Paracetamol (Tylenol) >1300mg/day',\n",
    "       'Simvastatin (Zocor)', 'Atorvastatin (Lipitor)', 'Fluvastatin (Lescol)',\n",
    "       'Lovastatin (Mevacor)', 'Pravastatin (Pravachol)',\n",
    "       'Rosuvastatin (Crestor)', 'Cerivastatin (Baycol)',\n",
    "       'Amiodarone (Cordarone)', 'Carbamazepine (Tegretol)',\n",
    "       'Phenytoin (Dilantin)', 'Rifampin or Rifampicin',\n",
    "       'Sulfonamide Antibiotics', 'Macrolide Antibiotics',\n",
    "       'Anti-fungal Azoles', 'Herbal Medications, Vitamins, Supplements']"
   ]
  },
  {
   "cell_type": "markdown",
   "metadata": {},
   "source": [
    "# Load and clean data"
   ]
  },
  {
   "cell_type": "code",
   "execution_count": 3,
   "metadata": {},
   "outputs": [],
   "source": [
    "import os\n",
    "os.chdir('data')\n",
    "iwpc = pd.read_excel('warfarin_iwpc.xls',sheet_name='Subject Data')\n",
    "iwpc = iwpc.drop(['PharmGKB Subject ID',\n",
    "                             'PharmGKB Sample ID',\n",
    "                            'Comments regarding Project Site Dataset',\n",
    "                            'Comorbidities',\n",
    "                            'Medications',\n",
    "                            'Indication for Warfarin Treatment',\n",
    "                            'Estimated Target INR Range Based on Indication'],axis=1)\n",
    "\n",
    "iwpc['Age'] = iwpc['Age'].str.split().str[0].str.strip('+').astype(float)+5 #eg converts \"50-60\" age group to 55\n",
    "iwpc = iwpc[iwpc['Race (OMB)'].isin(['White','Asian','Black or African American'])] #filters out other races too small to evaluate\n",
    "iwpc = iwpc[~pd.isna(iwpc['Therapeutic Dose of Warfarin'])] #filters out rows where no therapeutic dose is given\n",
    "iwpc['target'] = (iwpc['Therapeutic Dose of Warfarin']>35) #dichotomizes into low and high dose\n",
    "iwpc = iwpc.infer_objects()\n",
    "\n",
    "float_dtypes = iwpc.select_dtypes(include=['int64','float64']).columns\n",
    "float_index = [list(iwpc.columns).index(k) for k in float_dtypes]\n",
    "\n",
    "#converts object datatypes into ordinals\n",
    "obj_dtypes = list(iwpc.select_dtypes(include=['object']).columns)\n",
    "for protected_class in protected_classes:\n",
    "    obj_dtypes.remove(protected_class)\n",
    "\n",
    "obj_index = [list(iwpc.columns).index(k) for k in obj_dtypes]\n",
    "for idx in obj_index:\n",
    "    iwpc[iwpc.columns[idx]] = iwpc[iwpc.columns[idx]].astype(str)\n",
    "oe = OrdinalEncoder()\n",
    "iwpc[obj_dtypes] = oe.fit_transform(iwpc[obj_dtypes].astype(str))\n",
    "\n",
    "\n",
    "race_labels = oe.categories_[4]\n",
    "\n",
    "#fills remaining nans\n",
    "iwpc = iwpc.fillna(-1)"
   ]
  },
  {
   "cell_type": "code",
   "execution_count": 4,
   "metadata": {},
   "outputs": [],
   "source": [
    "primary, secondary = train_test_split(iwpc, test_size=0.5, random_state=42) #creates primary (modelling) dataset, secondary (proxy) dataset\n",
    "primary = primary[[c for c in primary.columns if c not in protected_classes]]\n",
    "secondary = secondary[genes+medication+['Race (OMB)']] #includes only suggested proxy variables in secondary set\n",
    "train, test = train_test_split(primary, test_size=0.5, random_state=42)"
   ]
  },
  {
   "cell_type": "code",
   "execution_count": 5,
   "metadata": {},
   "outputs": [],
   "source": [
    "exclude_from_train = ['Therapeutic Dose of Warfarin','target','PharmGKB Subject ID','PharmGKB Sample ID','Ethnicity (OMB)',\n",
    "                      'Race (Reported)',\n",
    "                     'Ethnicity (Reported)']\n",
    "y_train = train['target']\n",
    "y_test = test['target']\n",
    "X_train = train[[c for c in train.columns if c not in exclude_from_train]]\n",
    "X_test = test[[c for c in test.columns if c not in exclude_from_train]]"
   ]
  },
  {
   "cell_type": "code",
   "execution_count": 6,
   "metadata": {},
   "outputs": [
    {
     "data": {
      "text/plain": [
       "array([[764, 112],\n",
       "       [187, 200]], dtype=int64)"
      ]
     },
     "execution_count": 6,
     "metadata": {},
     "output_type": "execute_result"
    }
   ],
   "source": [
    "rfc = RandomForestClassifier(random_state = 42)\n",
    "rfc.fit(X_train.values, y_train)\n",
    "confusion_matrix(y_test.astype(int), rfc.predict(X_test.values))"
   ]
  },
  {
   "cell_type": "code",
   "execution_count": 7,
   "metadata": {
    "scrolled": true
   },
   "outputs": [],
   "source": [
    "pd.concat([X_test, y_test],axis=1).to_csv('primary.csv')\n",
    "secondary.to_csv('secondary.csv')\n",
    "pickle.dump(rfc, open('milestone_4_model.pkl','wb'))"
   ]
  }
 ],
 "metadata": {
  "kernelspec": {
   "display_name": "Python 3",
   "language": "python",
   "name": "python3"
  },
  "language_info": {
   "codemirror_mode": {
    "name": "ipython",
    "version": 3
   },
   "file_extension": ".py",
   "mimetype": "text/x-python",
   "name": "python",
   "nbconvert_exporter": "python",
   "pygments_lexer": "ipython3",
   "version": "3.7.6"
  }
 },
 "nbformat": 4,
 "nbformat_minor": 4
}
